{
 "cells": [
  {
   "cell_type": "code",
   "execution_count": null,
   "id": "96c457cd",
   "metadata": {},
   "outputs": [],
   "source": [
    "from bs4 import BeautifulSoup\n",
    "import requests\n",
    "import pandas as pd \n",
    "import matplotlib.pyplot as plt\n",
    "import seaborn as sns"
   ]
  },
  {
   "cell_type": "code",
   "execution_count": null,
   "id": "860c754d",
   "metadata": {},
   "outputs": [],
   "source": [
    "website =\"https://www.cars.com/shopping/results/?stock_type=new&makes%5B%5D=mercedes_benz&models%5B%5D=&list_price_max=&maximum_distance=20&zip=\""
   ]
  },
  {
   "cell_type": "markdown",
   "id": "04f0ec56",
   "metadata": {},
   "source": [
    "# HTTP Request"
   ]
  },
  {
   "cell_type": "code",
   "execution_count": null,
   "id": "dadc10c1",
   "metadata": {},
   "outputs": [],
   "source": [
    "response = requests.get(website)"
   ]
  },
  {
   "cell_type": "code",
   "execution_count": null,
   "id": "319d7b44",
   "metadata": {},
   "outputs": [],
   "source": [
    "response.status_code"
   ]
  },
  {
   "cell_type": "markdown",
   "id": "f7c53384",
   "metadata": {},
   "source": [
    "# Soup object"
   ]
  },
  {
   "cell_type": "code",
   "execution_count": null,
   "id": "f5f9734a",
   "metadata": {},
   "outputs": [],
   "source": [
    "soup = BeautifulSoup(response.content,'html.parser') "
   ]
  },
  {
   "cell_type": "code",
   "execution_count": null,
   "id": "653438df",
   "metadata": {},
   "outputs": [],
   "source": [
    "soup "
   ]
  },
  {
   "cell_type": "markdown",
   "id": "acb1ec7b",
   "metadata": {},
   "source": [
    "# Results"
   ]
  },
  {
   "cell_type": "code",
   "execution_count": null,
   "id": "885dfd22",
   "metadata": {},
   "outputs": [],
   "source": [
    "results= soup.find_all('div',{'class':'vehicle-card'})"
   ]
  },
  {
   "cell_type": "code",
   "execution_count": null,
   "id": "e5313c26",
   "metadata": {},
   "outputs": [],
   "source": [
    "results"
   ]
  },
  {
   "cell_type": "code",
   "execution_count": null,
   "id": "57db87d4",
   "metadata": {},
   "outputs": [],
   "source": [
    "results[0]"
   ]
  },
  {
   "cell_type": "markdown",
   "id": "05caf04f",
   "metadata": {},
   "source": [
    "#Target"
   ]
  },
  {
   "cell_type": "code",
   "execution_count": null,
   "id": "932a7a15",
   "metadata": {},
   "outputs": [],
   "source": [
    "#Name\n",
    "#Mileage\n",
    "#Rating\n",
    "#Rating Count\n",
    "#Price"
   ]
  },
  {
   "cell_type": "markdown",
   "id": "b823bbfd",
   "metadata": {},
   "source": [
    "# Name"
   ]
  },
  {
   "cell_type": "code",
   "execution_count": null,
   "id": "b50aa464",
   "metadata": {},
   "outputs": [],
   "source": [
    "results[0].find('h2').get_text()"
   ]
  },
  {
   "cell_type": "markdown",
   "id": "7f2ee7d0",
   "metadata": {},
   "source": [
    "# Mileage"
   ]
  },
  {
   "cell_type": "code",
   "execution_count": null,
   "id": "8042d06d",
   "metadata": {},
   "outputs": [],
   "source": [
    "results[0].find('div',{'class':'mileage'}).get_text()"
   ]
  },
  {
   "cell_type": "raw",
   "id": "b711f845",
   "metadata": {},
   "source": [
    "Rating"
   ]
  },
  {
   "cell_type": "code",
   "execution_count": null,
   "id": "2a4d7f5f",
   "metadata": {},
   "outputs": [],
   "source": [
    "results[0].find('span',{ 'class':'sds-rating__count'}).get_text()"
   ]
  },
  {
   "cell_type": "raw",
   "id": "e8f46018",
   "metadata": {},
   "source": [
    "Review"
   ]
  },
  {
   "cell_type": "code",
   "execution_count": null,
   "id": "8a58128e",
   "metadata": {},
   "outputs": [],
   "source": [
    " results[0].find('span',{'class':'sds-rating__link'}).get_text()"
   ]
  },
  {
   "cell_type": "markdown",
   "id": "cffb6781",
   "metadata": {},
   "source": [
    "# Price"
   ]
  },
  {
   "cell_type": "code",
   "execution_count": null,
   "id": "0c2256c6",
   "metadata": {},
   "outputs": [],
   "source": [
    "results[0].find('span',{'class':'primary-price'}).get_text()"
   ]
  },
  {
   "cell_type": "markdown",
   "id": "c5272538",
   "metadata": {},
   "source": [
    "# Access  to  everything "
   ]
  },
  {
   "cell_type": "code",
   "execution_count": null,
   "id": "a763690c",
   "metadata": {},
   "outputs": [],
   "source": [
    "name = []\n",
    "mileage = []\n",
    "dealer_name = []\n",
    "rating = []\n",
    "rating_count = []\n",
    "price = []\n",
    "\n",
    "for result in results:\n",
    "    #name\n",
    "    try:\n",
    "        name.append(result.find('h2').get_text())\n",
    "    except:\n",
    "        name.append('n/a')\n",
    "    #mileage\n",
    "    try:\n",
    "        mileage.append(result.find('div',{'class':'mileage'}).get_text())\n",
    "    except:\n",
    "        mileage.append('n/a')\n",
    "    #rating\n",
    "    try:\n",
    "        rating.append(result.find('span',{ 'class':'sds-rating__count'}).get_text())\n",
    "    except:\n",
    "        rating.append('n/a')\n",
    "    #rating_count\n",
    "    try:\n",
    "        rating_count.append(result.find('span',{'class':'sds-rating__link'}).get_text())\n",
    "    except:\n",
    "        rating_count.append('n/a')\n",
    "    #price\n",
    "    try:\n",
    "        price.append(result.find('span',{'class':'primary-price'}).get_text())\n",
    "    except:\n",
    "        price.append('n/a')\n",
    "    "
   ]
  },
  {
   "cell_type": "code",
   "execution_count": null,
   "id": "0db47168",
   "metadata": {},
   "outputs": [],
   "source": [
    "name"
   ]
  },
  {
   "cell_type": "code",
   "execution_count": null,
   "id": "35401199",
   "metadata": {},
   "outputs": [],
   "source": [
    "len(mileage)"
   ]
  },
  {
   "cell_type": "code",
   "execution_count": null,
   "id": "5494445c",
   "metadata": {},
   "outputs": [],
   "source": [
    "price"
   ]
  },
  {
   "cell_type": "markdown",
   "id": "9455ef43",
   "metadata": {},
   "source": [
    "# Pandas Dataframe"
   ]
  },
  {
   "cell_type": "code",
   "execution_count": null,
   "id": "ae38627f",
   "metadata": {},
   "outputs": [],
   "source": [
    "car_dealer = pd.DataFrame({'Name':name, \n",
    "                           'Mileage': mileage,\n",
    "                           'Rating': rating,\n",
    "                           'Rating Count' : rating_count,\n",
    "                           'Price':price})"
   ]
  },
  {
   "cell_type": "code",
   "execution_count": null,
   "id": "390a62d2",
   "metadata": {
    "scrolled": true
   },
   "outputs": [],
   "source": [
    "car_dealer"
   ]
  },
  {
   "cell_type": "markdown",
   "id": "c8253406",
   "metadata": {},
   "source": [
    "# Data Cleaning"
   ]
  },
  {
   "cell_type": "code",
   "execution_count": null,
   "id": "459eba20",
   "metadata": {},
   "outputs": [],
   "source": [
    "car_dealer['Rating Count'] = car_dealer ['Rating Count'].apply(lambda x:x.strip('reviews)').strip('('))"
   ]
  },
  {
   "cell_type": "code",
   "execution_count": null,
   "id": "d07e405c",
   "metadata": {
    "scrolled": true
   },
   "outputs": [],
   "source": [
    "car_dealer"
   ]
  },
  {
   "cell_type": "markdown",
   "id": "107ffffc",
   "metadata": {},
   "source": [
    "# Output in Excel"
   ]
  },
  {
   "cell_type": "code",
   "execution_count": null,
   "id": "fc8bab54",
   "metadata": {},
   "outputs": [],
   "source": [
    "car_dealer.to_excel('single_page_car.xlsx', index=False)"
   ]
  },
  {
   "cell_type": "markdown",
   "id": "e425ead5",
   "metadata": {},
   "source": [
    "# Part2- Pagination "
   ]
  },
  {
   "cell_type": "code",
   "execution_count": null,
   "id": "59d543f9",
   "metadata": {},
   "outputs": [],
   "source": [
    "name = []\n",
    "mileage = []\n",
    "dealer_name = []\n",
    "rating = []\n",
    "rating_count = []\n",
    "price = []\n",
    "for i in range(1,11):\n",
    "    \n",
    "    # website in a variable\n",
    "    website='https://www.cars.com/shopping/results/?page='+str(i)+'&page_size=20&list_price_max=&makes[]=mercedes_benz&maximum_distance=20&models[]=&stock_type=new&zip='\n",
    "    \n",
    "    #request to website\n",
    "    response = requests.get(website)\n",
    "    #soup object\n",
    "    soup = BeautifulSoup(response.content,'html.parser') \n",
    "    #results\n",
    "    results= soup.find_all('div',{'class':'vehicle-card'})\n",
    "    for result in results:\n",
    "        #name\n",
    "        try:\n",
    "            name.append(result.find('h2').get_text())\n",
    "        except:\n",
    "            name.append('n/a')\n",
    "        \n",
    "        #mileage\n",
    "        try:\n",
    "            mileage.append(result.find('div',{'class':'mileage'}).get_text())\n",
    "        except:\n",
    "                mileage.append('n/a')\n",
    "        #rating\n",
    "        try:\n",
    "            rating.append(result.find('span',{ 'class':'sds-rating__count'}).get_text())\n",
    "        except:\n",
    "            rating.append('n/a')\n",
    "        #rating_count\n",
    "        try:\n",
    "            rating_count.append(result.find('span',{'class':'sds-rating__link'}).get_text())\n",
    "        except:\n",
    "            rating_count.append('n/a')\n",
    "        #price\n",
    "        try:\n",
    "            price.append(result.find('span',{'class':'primary-price'}).get_text())\n",
    "        except:\n",
    "            price.append('n/a')\n",
    "     \n",
    "        \n",
    "          \n",
    "    \n",
    "   \n",
    "\n",
    "    \n",
    "    \n",
    "    "
   ]
  },
  {
   "cell_type": "code",
   "execution_count": null,
   "id": "22318a86",
   "metadata": {},
   "outputs": [],
   "source": [
    "car_dealer = pd.DataFrame({'Name':name, \n",
    "                           'Mileage': mileage,\n",
    "                           'Rating': rating,\n",
    "                           'Rating Count' : rating_count,\n",
    "                           'Price':price})"
   ]
  },
  {
   "cell_type": "code",
   "execution_count": null,
   "id": "b9899d0d",
   "metadata": {},
   "outputs": [],
   "source": [
    "car_dealer"
   ]
  },
  {
   "cell_type": "code",
   "execution_count": null,
   "id": "16fdefa4",
   "metadata": {},
   "outputs": [],
   "source": [
    "car_dealer['Rating Count'] = car_dealer ['Rating Count'].apply(lambda x:x.strip('reviews)').strip('('))"
   ]
  },
  {
   "cell_type": "code",
   "execution_count": null,
   "id": "8650aefe",
   "metadata": {},
   "outputs": [],
   "source": [
    "car_dealer"
   ]
  },
  {
   "cell_type": "code",
   "execution_count": null,
   "id": "c853eb35",
   "metadata": {},
   "outputs": [],
   "source": [
    "car_dealer.to_excel('multiple_pages_cars.xlsx', index=False)"
   ]
  },
  {
   "cell_type": "code",
   "execution_count": null,
   "id": "7bbafeec",
   "metadata": {},
   "outputs": [],
   "source": []
  },
  {
   "cell_type": "code",
   "execution_count": null,
   "id": "dbc0cc86",
   "metadata": {},
   "outputs": [],
   "source": []
  }
 ],
 "metadata": {
  "kernelspec": {
   "display_name": "Python 3 (ipykernel)",
   "language": "python",
   "name": "python3"
  },
  "language_info": {
   "codemirror_mode": {
    "name": "ipython",
    "version": 3
   },
   "file_extension": ".py",
   "mimetype": "text/x-python",
   "name": "python",
   "nbconvert_exporter": "python",
   "pygments_lexer": "ipython3",
   "version": "3.9.7"
  }
 },
 "nbformat": 4,
 "nbformat_minor": 5
}
